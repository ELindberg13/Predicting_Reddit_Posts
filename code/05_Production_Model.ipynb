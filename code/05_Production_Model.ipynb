{
 "cells": [
  {
   "cell_type": "markdown",
   "metadata": {},
   "source": [
    "# Production Model"
   ]
  },
  {
   "cell_type": "markdown",
   "metadata": {},
   "source": [
    "The production model is created from an aggregation of 3 different models - Naive Bayes, Logistic Regression, and Support Vector Machines"
   ]
  },
  {
   "cell_type": "code",
   "execution_count": 1,
   "metadata": {},
   "outputs": [],
   "source": [
    "import pandas as pd\n",
    "import numpy as np\n",
    "import matplotlib.pyplot as plt\n",
    "import seaborn as sns\n",
    "import time\n",
    "import nltk\n",
    "\n",
    "from sklearn.model_selection import train_test_split, GridSearchCV\n",
    "from sklearn.feature_extraction.text import CountVectorizer\n",
    "\n",
    "from sklearn.linear_model import LogisticRegression\n",
    "\n",
    "from sklearn.naive_bayes import MultinomialNB\n",
    "\n",
    "from sklearn.svm import SVC\n",
    "from mlxtend.preprocessing import DenseTransformer\n",
    "from sklearn.preprocessing import StandardScaler\n",
    "\n",
    "from sklearn.ensemble import VotingClassifier\n",
    "\n",
    "from sklearn.pipeline import Pipeline\n",
    "from sklearn.metrics import confusion_matrix, plot_confusion_matrix\n",
    "\n",
    "import pickle\n",
    "import gzip"
   ]
  },
  {
   "cell_type": "code",
   "execution_count": 2,
   "metadata": {},
   "outputs": [
    {
     "data": {
      "text/plain": [
       "0    0.506923\n",
       "1    0.493077\n",
       "Name: subreddit, dtype: float64"
      ]
     },
     "execution_count": 2,
     "metadata": {},
     "output_type": "execute_result"
    }
   ],
   "source": [
    "# importing the cleaned reddit posts\n",
    "posts = pd.read_csv(\"../data/cleaned_reddit_posts.csv\")\n",
    "\n",
    "X = posts[\"title\"]\n",
    "y = posts[\"subreddit\"]\n",
    "\n",
    "X_train, X_test, y_train, y_test = train_test_split(X,y,test_size=0.25,random_state=2020)\n",
    "\n",
    "#Calculating the baseline accuracy of the data\n",
    "y_test.value_counts(normalize=True)"
   ]
  },
  {
   "cell_type": "code",
   "execution_count": 3,
   "metadata": {},
   "outputs": [],
   "source": [
    "#loading models using pickle\n",
    "#with help from https://stackabuse.com/scikit-learn-save-and-restore-models/\n",
    "\n",
    "with open('../data/saved_models/nb_model.pkl', 'rb') as nb_file:\n",
    "    best_nb = pickle.load(nb_file)\n",
    "\n",
    "with open('../data/saved_models/logreg_model.pkl', 'rb') as logreg_file:\n",
    "    best_logreg = pickle.load(logreg_file)\n",
    "    \n",
    "with gzip.open('../data/saved_models/svm_model.pgz', 'rb') as svm_file:\n",
    "    best_svm = pickle.load(svm_file)"
   ]
  },
  {
   "cell_type": "code",
   "execution_count": 4,
   "metadata": {},
   "outputs": [
    {
     "name": "stdout",
     "output_type": "stream",
     "text": [
      "Training 0.9721794871794872\n",
      "Testing 0.9334615384615385\n"
     ]
    }
   ],
   "source": [
    "#Aggregating the predictions from logreg, nb, and svm to create production model\n",
    "vote = VotingClassifier(estimators=[\n",
    "    (\"logreg\" , best_logreg),\n",
    "    (\"nb\" , best_nb),\n",
    "    (\"svm\" , best_svm)\n",
    "],\n",
    "voting = \"soft\")\n",
    "\n",
    "vote.fit(X_train,y_train)\n",
    "\n",
    "print(f'Training {vote.score(X_train,y_train)}')\n",
    "print(f'Testing {vote.score(X_test,y_test)}')"
   ]
  },
  {
   "cell_type": "markdown",
   "metadata": {},
   "source": [
    "Training Accuracy = 0.972\n",
    "\n",
    "Testing Accuracy = 0.934"
   ]
  },
  {
   "cell_type": "code",
   "execution_count": 5,
   "metadata": {},
   "outputs": [
    {
     "data": {
      "text/html": [
       "<div>\n",
       "<style scoped>\n",
       "    .dataframe tbody tr th:only-of-type {\n",
       "        vertical-align: middle;\n",
       "    }\n",
       "\n",
       "    .dataframe tbody tr th {\n",
       "        vertical-align: top;\n",
       "    }\n",
       "\n",
       "    .dataframe thead th {\n",
       "        text-align: right;\n",
       "    }\n",
       "</style>\n",
       "<table border=\"1\" class=\"dataframe\">\n",
       "  <thead>\n",
       "    <tr style=\"text-align: right;\">\n",
       "      <th></th>\n",
       "      <th>X_test</th>\n",
       "      <th>y_test</th>\n",
       "      <th>logreg_preds</th>\n",
       "      <th>nb_preds</th>\n",
       "      <th>svm_preds</th>\n",
       "      <th>vote_preds</th>\n",
       "    </tr>\n",
       "  </thead>\n",
       "  <tbody>\n",
       "    <tr>\n",
       "      <th>8348</th>\n",
       "      <td>ELI5: Why the Fourier transform seems to have ...</td>\n",
       "      <td>1</td>\n",
       "      <td>1</td>\n",
       "      <td>1</td>\n",
       "      <td>1</td>\n",
       "      <td>1</td>\n",
       "    </tr>\n",
       "    <tr>\n",
       "      <th>3918</th>\n",
       "      <td>Aita for threading to call the police after my...</td>\n",
       "      <td>0</td>\n",
       "      <td>0</td>\n",
       "      <td>0</td>\n",
       "      <td>0</td>\n",
       "      <td>0</td>\n",
       "    </tr>\n",
       "    <tr>\n",
       "      <th>5926</th>\n",
       "      <td>ELI5: How is unit-uniqueness guaranteed in ext...</td>\n",
       "      <td>1</td>\n",
       "      <td>1</td>\n",
       "      <td>1</td>\n",
       "      <td>1</td>\n",
       "      <td>1</td>\n",
       "    </tr>\n",
       "    <tr>\n",
       "      <th>1856</th>\n",
       "      <td>Aita for wishing bad on my family</td>\n",
       "      <td>0</td>\n",
       "      <td>0</td>\n",
       "      <td>0</td>\n",
       "      <td>0</td>\n",
       "      <td>0</td>\n",
       "    </tr>\n",
       "    <tr>\n",
       "      <th>2719</th>\n",
       "      <td>WIBTA If I outed my sister as lesbian to the r...</td>\n",
       "      <td>0</td>\n",
       "      <td>0</td>\n",
       "      <td>0</td>\n",
       "      <td>0</td>\n",
       "      <td>0</td>\n",
       "    </tr>\n",
       "  </tbody>\n",
       "</table>\n",
       "</div>"
      ],
      "text/plain": [
       "                                                 X_test  y_test  logreg_preds  \\\n",
       "8348  ELI5: Why the Fourier transform seems to have ...       1             1   \n",
       "3918  Aita for threading to call the police after my...       0             0   \n",
       "5926  ELI5: How is unit-uniqueness guaranteed in ext...       1             1   \n",
       "1856                  Aita for wishing bad on my family       0             0   \n",
       "2719  WIBTA If I outed my sister as lesbian to the r...       0             0   \n",
       "\n",
       "      nb_preds  svm_preds  vote_preds  \n",
       "8348         1          1           1  \n",
       "3918         0          0           0  \n",
       "5926         1          1           1  \n",
       "1856         0          0           0  \n",
       "2719         0          0           0  "
      ]
     },
     "execution_count": 5,
     "metadata": {},
     "output_type": "execute_result"
    }
   ],
   "source": [
    "temp_dict = {\"X_test\" : X_test , \"y_test\" : y_test}\n",
    "preds_and_posts = pd.DataFrame(temp_dict)\n",
    "preds_and_posts[\"logreg_preds\"] = best_logreg.predict(X_test)\n",
    "preds_and_posts[\"nb_preds\"] = best_nb.predict(X_test)\n",
    "preds_and_posts[\"svm_preds\"] = best_svm.predict(X_test)\n",
    "preds_and_posts[\"vote_preds\"] = vote.predict(X_test)\n",
    "preds_and_posts.head()"
   ]
  },
  {
   "cell_type": "code",
   "execution_count": 6,
   "metadata": {},
   "outputs": [
    {
     "name": "stdout",
     "output_type": "stream",
     "text": [
      "Logreg miss classified - 209\n",
      "Nb miss classified - 176\n",
      "Svm miss classified - 226\n",
      "Vote miss classified - 173\n"
     ]
    }
   ],
   "source": [
    "#how many posts the each model misclassified\n",
    "print(f'Logreg miss classified - {len(preds_and_posts[preds_and_posts[\"y_test\"] != preds_and_posts[\"logreg_preds\"]])}')\n",
    "print(f'Nb miss classified - {len(preds_and_posts[preds_and_posts[\"y_test\"] != preds_and_posts[\"nb_preds\"]])}')\n",
    "print(f'Svm miss classified - {len(preds_and_posts[preds_and_posts[\"y_test\"] != preds_and_posts[\"svm_preds\"]])}')\n",
    "print(f'Vote miss classified - {len(preds_and_posts[preds_and_posts[\"y_test\"] != preds_and_posts[\"vote_preds\"]])}')"
   ]
  },
  {
   "cell_type": "code",
   "execution_count": 7,
   "metadata": {},
   "outputs": [
    {
     "data": {
      "text/plain": [
       "329"
      ]
     },
     "execution_count": 7,
     "metadata": {},
     "output_type": "execute_result"
    }
   ],
   "source": [
    "#how many different posts were misclassified\n",
    "len(preds_and_posts[(preds_and_posts[\"y_test\"] != preds_and_posts[\"logreg_preds\"]) | (preds_and_posts[\"y_test\"] != preds_and_posts[\"nb_preds\"]) | (preds_and_posts[\"y_test\"] != preds_and_posts[\"svm_preds\"]) ])"
   ]
  },
  {
   "cell_type": "code",
   "execution_count": 8,
   "metadata": {},
   "outputs": [
    {
     "data": {
      "text/html": [
       "<div>\n",
       "<style scoped>\n",
       "    .dataframe tbody tr th:only-of-type {\n",
       "        vertical-align: middle;\n",
       "    }\n",
       "\n",
       "    .dataframe tbody tr th {\n",
       "        vertical-align: top;\n",
       "    }\n",
       "\n",
       "    .dataframe thead th {\n",
       "        text-align: right;\n",
       "    }\n",
       "</style>\n",
       "<table border=\"1\" class=\"dataframe\">\n",
       "  <thead>\n",
       "    <tr style=\"text-align: right;\">\n",
       "      <th></th>\n",
       "      <th>X_test</th>\n",
       "      <th>y_test</th>\n",
       "      <th>logreg_preds</th>\n",
       "      <th>nb_preds</th>\n",
       "      <th>svm_preds</th>\n",
       "      <th>vote_preds</th>\n",
       "    </tr>\n",
       "  </thead>\n",
       "  <tbody>\n",
       "    <tr>\n",
       "      <th>9300</th>\n",
       "      <td>ELI5 In ladder toss lawn game if the bolas wra...</td>\n",
       "      <td>1</td>\n",
       "      <td>1</td>\n",
       "      <td>0</td>\n",
       "      <td>1</td>\n",
       "      <td>0</td>\n",
       "    </tr>\n",
       "    <tr>\n",
       "      <th>3571</th>\n",
       "      <td>AITA for “ripping people off” in my plant sales</td>\n",
       "      <td>0</td>\n",
       "      <td>1</td>\n",
       "      <td>1</td>\n",
       "      <td>1</td>\n",
       "      <td>1</td>\n",
       "    </tr>\n",
       "    <tr>\n",
       "      <th>8437</th>\n",
       "      <td>ELI5: How does porn generate revenue?</td>\n",
       "      <td>1</td>\n",
       "      <td>1</td>\n",
       "      <td>0</td>\n",
       "      <td>1</td>\n",
       "      <td>0</td>\n",
       "    </tr>\n",
       "    <tr>\n",
       "      <th>2931</th>\n",
       "      <td>AITA - I want to refuse coming in to work beca...</td>\n",
       "      <td>0</td>\n",
       "      <td>1</td>\n",
       "      <td>1</td>\n",
       "      <td>1</td>\n",
       "      <td>1</td>\n",
       "    </tr>\n",
       "  </tbody>\n",
       "</table>\n",
       "</div>"
      ],
      "text/plain": [
       "                                                 X_test  y_test  logreg_preds  \\\n",
       "9300  ELI5 In ladder toss lawn game if the bolas wra...       1             1   \n",
       "3571    AITA for “ripping people off” in my plant sales       0             1   \n",
       "8437              ELI5: How does porn generate revenue?       1             1   \n",
       "2931  AITA - I want to refuse coming in to work beca...       0             1   \n",
       "\n",
       "      nb_preds  svm_preds  vote_preds  \n",
       "9300         0          1           0  \n",
       "3571         1          1           1  \n",
       "8437         0          1           0  \n",
       "2931         1          1           1  "
      ]
     },
     "execution_count": 8,
     "metadata": {},
     "output_type": "execute_result"
    }
   ],
   "source": [
    "#looing at the status which the model miss classified\n",
    "preds_and_posts[preds_and_posts[\"y_test\"] != preds_and_posts[\"vote_preds\"]].iloc[2:6]"
   ]
  },
  {
   "cell_type": "markdown",
   "metadata": {},
   "source": [
    "### Vote Classifier Confusion Matrix"
   ]
  },
  {
   "cell_type": "code",
   "execution_count": 9,
   "metadata": {},
   "outputs": [
    {
     "data": {
      "text/plain": [
       "<Figure size 864x720 with 0 Axes>"
      ]
     },
     "metadata": {},
     "output_type": "display_data"
    },
    {
     "data": {
      "image/png": "[encoded data removed]",
      "text/plain": [
       "<Figure size 432x288 with 2 Axes>"
      ]
     },
     "metadata": {
      "needs_background": "light"
     },
     "output_type": "display_data"
    }
   ],
   "source": [
    "#generate confusion matrix values from ensemble model\n",
    "tn,fp,fn,tp = confusion_matrix(y_test,preds_and_posts[\"vote_preds\"]).ravel()\n",
    "plt.figure(figsize=(12,10))\n",
    "plt.rcParams.update({'font.size': 15})\n",
    "plot_confusion_matrix(vote, X_test, y_test, cmap='Blues', values_format='d',display_labels=[\"AITA\",\"ELI5\"]);"
   ]
  },
  {
   "cell_type": "code",
   "execution_count": 10,
   "metadata": {},
   "outputs": [
    {
     "data": {
      "text/plain": [
       "0.9180576631259484"
      ]
     },
     "execution_count": 10,
     "metadata": {},
     "output_type": "execute_result"
    }
   ],
   "source": [
    "#specificity\n",
    "tn/(tn+fp)"
   ]
  },
  {
   "cell_type": "code",
   "execution_count": 11,
   "metadata": {},
   "outputs": [
    {
     "data": {
      "text/plain": [
       "0.9492979719188768"
      ]
     },
     "execution_count": 11,
     "metadata": {},
     "output_type": "execute_result"
    }
   ],
   "source": [
    "#sensitivity\n",
    "tp/(tp+fn)"
   ]
  },
  {
   "cell_type": "markdown",
   "metadata": {},
   "source": [
    "### Naive Bayes Confusion Matrix"
   ]
  },
  {
   "cell_type": "code",
   "execution_count": 12,
   "metadata": {},
   "outputs": [
    {
     "data": {
      "image/png": "[encoded data removed]",
      "text/plain": [
       "<Figure size 432x288 with 2 Axes>"
      ]
     },
     "metadata": {
      "needs_background": "light"
     },
     "output_type": "display_data"
    }
   ],
   "source": [
    "plot_confusion_matrix(best_nb, X_test, y_test, cmap='Blues', values_format='d',display_labels=[\"AITA\",\"ELI5\"]);"
   ]
  },
  {
   "cell_type": "code",
   "execution_count": 13,
   "metadata": {},
   "outputs": [
    {
     "data": {
      "image/png": "[encoded data removed]",
      "text/plain": [
       "<Figure size 432x288 with 2 Axes>"
      ]
     },
     "metadata": {
      "needs_background": "light"
     },
     "output_type": "display_data"
    }
   ],
   "source": [
    "plot_confusion_matrix(best_svm, X_test, y_test, cmap='Blues', values_format='d',display_labels=[\"AITA\",\"ELI5\"]);"
   ]
  },
  {
   "cell_type": "markdown",
   "metadata": {},
   "source": [
    "# Conclusions"
   ]
  },
  {
   "cell_type": "markdown",
   "metadata": {},
   "source": [
    "Overall the ensemble model does a very good job at predicting subreddits based on title words alone. As no prediction is worse than another, overall accuracy is the best metric to compare when moving forward. "
   ]
  },
  {
   "cell_type": "markdown",
   "metadata": {},
   "source": [
    "The vote classifier takes the predictions from the 3 component models (mNB,logreg,SVM) and uses those predictions to generate an overall prediction. This model preforms especially well when all of the component models are around the same level of accuracy (which is the case here)"
   ]
  },
  {
   "cell_type": "markdown",
   "metadata": {},
   "source": [
    "The model struggles to correctly identify technical questions based on personal concepts ( ie sex, kids, marriage)"
   ]
  },
  {
   "cell_type": "markdown",
   "metadata": {},
   "source": [
    "In general AITA posts are easier to determine than ELI5 posts as the common word choice is more consistent which allows the model to have an easier time predicting "
   ]
  },
  {
   "cell_type": "code",
   "execution_count": null,
   "metadata": {},
   "outputs": [],
   "source": []
  }
 ],
 "metadata": {
  "kernelspec": {
   "display_name": "Python 3",
   "language": "python",
   "name": "python3"
  },
  "language_info": {
   "codemirror_mode": {
    "name": "ipython",
    "version": 3
   },
   "file_extension": ".py",
   "mimetype": "text/x-python",
   "name": "python",
   "nbconvert_exporter": "python",
   "pygments_lexer": "ipython3",
   "version": "3.7.7"
  }
 },
 "nbformat": 4,
 "nbformat_minor": 4
}
