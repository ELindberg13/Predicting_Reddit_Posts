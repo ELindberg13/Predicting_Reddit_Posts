{
 "cells": [
  {
   "cell_type": "markdown",
   "metadata": {},
   "source": [
    "# Gathering data from Reddit"
   ]
  },
  {
   "cell_type": "markdown",
   "metadata": {},
   "source": [
    "### Reddit - Am I the Asshole"
   ]
  },
  {
   "cell_type": "markdown",
   "metadata": {},
   "source": [
    "Here is the [link](https://www.reddit.com/r/AmItheAsshole/) to the subreddit"
   ]
  },
  {
   "cell_type": "code",
   "execution_count": 1,
   "metadata": {},
   "outputs": [],
   "source": [
    "import pandas as pd\n",
    "import requests\n",
    "import time"
   ]
  },
  {
   "cell_type": "code",
   "execution_count": 2,
   "metadata": {},
   "outputs": [],
   "source": [
    "#https://www.reddit.com/r/AmItheAsshole/\n",
    "pushshift_url = \"https://api.pushshift.io/reddit/search/submission\""
   ]
  },
  {
   "cell_type": "code",
   "execution_count": 6,
   "metadata": {},
   "outputs": [],
   "source": [
    "#creating empty df to store AITA posts\n",
    "aita_posts = pd.DataFrame()\n",
    "\n",
    "#collecting 5200 posts from AmItheAsshole\n",
    "# 1593622801 is the utc time for Sat 7/1/2020 at 12:00:01 PM\n",
    "#86400 is the utc for 24 hours\n",
    "# 1598029201 is the utc time for Friday 8/21/2020 at 12:00:01 PM\n",
    "for day_time in range(1593622801,1598029202, 86400):\n",
    "    params = {\"subreddit\":\"AmItheAsshole\",\n",
    "              \"size\" : 100, \n",
    "              \"before\" : day_time\n",
    "             }\n",
    "    \n",
    "    aita_res = requests.get(pushshift_url,params)\n",
    "\n",
    "    # .json gets the text from the api. saved to data as a dictionary\n",
    "    data = aita_res.json()\n",
    "\n",
    "    #creates a list of the 100 most recent posts from noon on every day from 8/1 to 8/21\n",
    "    posts = data[\"data\"]\n",
    "\n",
    "    df = pd.DataFrame(posts)\n",
    "    df = df[[\"subreddit\",\"title\"]]\n",
    "    \n",
    "    aita_posts =  pd.concat([aita_posts,df])\n",
    "    \n",
    "    time.sleep(3)"
   ]
  },
  {
   "cell_type": "markdown",
   "metadata": {},
   "source": [
    "### Reddit - Explain Like I'm 5"
   ]
  },
  {
   "cell_type": "markdown",
   "metadata": {},
   "source": [
    "Here is the [link](https://www.reddit.com/r/explainlikeimfive/) to the subreddit"
   ]
  },
  {
   "cell_type": "code",
   "execution_count": 8,
   "metadata": {},
   "outputs": [],
   "source": [
    "#creating empty df to store AITA posts\n",
    "eli5_posts = pd.DataFrame()\n",
    "\n",
    "#collecting 5200 posts from explainlikeimfive\n",
    "# 1593622801 is the utc time for Wed 7/1/2020 at 12:00:01 PM\n",
    "#86400 is the utc for 24 hours\n",
    "# 1598029201 is the utc time for Friday 8/21/2020 at 12:00:01 PM\n",
    "for day_time in range(1593622801,1598029202, 86400):\n",
    "    params = {\"subreddit\":\"explainlikeimfive\",\n",
    "              \"size\" : 100, \n",
    "              \"before\" : day_time\n",
    "             }\n",
    "    \n",
    "    eli5_res = requests.get(pushshift_url,params)\n",
    "\n",
    "    # .json gets the text from the api. saved to data as a dictionary\n",
    "    data = eli5_res.json()\n",
    "\n",
    "    #creates a list of the 100 most recent posts from noon on every day from 8/1 to 8/21\n",
    "    posts = data[\"data\"]\n",
    "\n",
    "    df = pd.DataFrame(posts)\n",
    "    df = df[[\"subreddit\",\"title\"]]\n",
    "    \n",
    "    eli5_posts =  pd.concat([eli5_posts,df])\n",
    "    \n",
    "    time.sleep(3)"
   ]
  },
  {
   "cell_type": "code",
   "execution_count": 9,
   "metadata": {},
   "outputs": [
    {
     "data": {
      "text/plain": [
       "(5200, 2)"
      ]
     },
     "execution_count": 9,
     "metadata": {},
     "output_type": "execute_result"
    }
   ],
   "source": [
    "eli5_posts.shape"
   ]
  },
  {
   "cell_type": "code",
   "execution_count": 10,
   "metadata": {},
   "outputs": [],
   "source": [
    "#creating a combined df with all the postss\n",
    "total_posts = pd.concat([aita_posts,eli5_posts])"
   ]
  },
  {
   "cell_type": "code",
   "execution_count": 11,
   "metadata": {},
   "outputs": [],
   "source": [
    "#reseting the index and dropping the old indexes\n",
    "total_posts.reset_index(drop=True,inplace=True)"
   ]
  },
  {
   "cell_type": "code",
   "execution_count": 13,
   "metadata": {},
   "outputs": [],
   "source": [
    "#exporting the total_posts df to be used in the next step\n",
    "total_posts.to_csv(\"../data/posts_from_reddit.csv\",index=False)"
   ]
  },
  {
   "cell_type": "code",
   "execution_count": null,
   "metadata": {},
   "outputs": [],
   "source": []
  }
 ],
 "metadata": {
  "kernelspec": {
   "display_name": "Python 3",
   "language": "python",
   "name": "python3"
  },
  "language_info": {
   "codemirror_mode": {
    "name": "ipython",
    "version": 3
   },
   "file_extension": ".py",
   "mimetype": "text/x-python",
   "name": "python",
   "nbconvert_exporter": "python",
   "pygments_lexer": "ipython3",
   "version": "3.7.7"
  }
 },
 "nbformat": 4,
 "nbformat_minor": 4
}
